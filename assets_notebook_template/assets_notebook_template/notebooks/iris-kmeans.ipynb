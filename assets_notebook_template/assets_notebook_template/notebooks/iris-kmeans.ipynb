{
 "cells": [
  {
   "cell_type": "markdown",
   "id": "72871db4",
   "metadata": {
    "noteable": {
     "output_collection_id": "72871db4"
    }
   },
   "source": [
    "# K-means clustering for the Iris data set"
   ]
  },
  {
   "cell_type": "code",
   "execution_count": 1,
   "id": "bffeb9bc",
   "metadata": {
    "jupyter": {
     "outputs_hidden": true
    },
    "noteable": {}
   },
   "outputs": [],
   "source": [
    "import matplotlib.pyplot as plt\n",
    "import pandas as pd\n",
    "import seaborn as sns"
   ]
  },
  {
   "cell_type": "code",
   "execution_count": 2,
   "id": "3d6e994f",
   "metadata": {
    "noteable": {},
    "tags": [
     "parameters"
    ]
   },
   "outputs": [],
   "source": [
    "# TODO fetch iris dataset\n",
    "iris = None"
   ]
  },
  {
   "cell_type": "code",
   "execution_count": null,
   "id": "ce6f4352",
   "metadata": {
    "noteable": {}
   },
   "outputs": [],
   "source": [
    "iris.head()"
   ]
  },
  {
   "cell_type": "code",
   "execution_count": null,
   "id": "830c2d48",
   "metadata": {
    "noteable": {}
   },
   "outputs": [],
   "source": [
    "g = sns.PairGrid(iris)\n",
    "g.map_diag(plt.hist, alpha=0.5)\n",
    "g.map_upper(plt.scatter, alpha=0.5, marker=\"x\")\n",
    "g.map_lower(sns.kdeplot, shade=True, shade_lowest=False, alpha=0.3)\n",
    "g.add_legend()"
   ]
  }
 ],
 "metadata": {
  "celltoolbar": "Tags",
  "kernelspec": {
   "display_name": "Python 3.9.10 64-bit ('dagster-3.9.10')",
   "language": "python",
   "name": "python3"
  },
  "language_info": {
   "codemirror_mode": {
    "name": "ipython",
    "version": 3
   },
   "file_extension": ".py",
   "mimetype": "text/x-python",
   "name": "python",
   "nbconvert_exporter": "python",
   "nbsphinx": {
    "orphan": true
   },
   "pygments_lexer": "ipython3",
   "version": "3.9.10"
  },
  "noteable": {
   "last_delta_id": "60873d32-186d-4ed8-b5c1-c877e25cd188",
   "last_transaction_id": "60873d32-186d-4ed8-b5c1-c877e25cd188"
  },
  "nteract": {
   "version": "noteable@2.9.0"
  },
  "selected_hardware_size": "small",
  "vscode": {
   "interpreter": {
    "hash": "e5fba353c56c7ba0bcc92cb4e3a58f4a2d45616f71cf3092e3e47a9c9267b682"
   }
  }
 },
 "nbformat": 4,
 "nbformat_minor": 5
}
