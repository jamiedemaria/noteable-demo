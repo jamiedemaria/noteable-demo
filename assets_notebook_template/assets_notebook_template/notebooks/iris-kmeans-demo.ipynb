{
  "cells": [
    {
      "cell_type": "markdown",
      "id": "8d015956",
      "metadata": {
        "noteable": {
          "output_collection_id": "8d015956"
        }
      },
      "source": [
        "# K-means clustering for the Iris data set"
      ]
    },
    {
      "cell_type": "code",
      "execution_count": null,
      "id": "edec6ecf",
      "metadata": {
        "noteable": {}
      },
      "outputs": [],
      "source": [
        "import matplotlib.pyplot as plt\n",
        "import pandas as pd\n",
        "import seaborn as sns"
      ]
    },
    {
      "cell_type": "code",
      "execution_count": null,
      "id": "d1834c47",
      "metadata": {
        "noteable": {},
        "tags": [
          "parameters"
        ]
      },
      "outputs": [],
      "source": [
        "# this cell has already been marked with the \"parameters\" tag\n",
        "iris = pd.read_csv(\n",
        "    \"https://archive.ics.uci.edu/ml/machine-learning-databases/iris/iris.data\", \n",
        "    names=['Sepal length (cm)', 'Sepal width (cm)', 'Petal length (cm)', 'Petal width (cm)', 'Species'])"
      ]
    },
    {
      "cell_type": "code",
      "execution_count": null,
      "id": "ea76a63b",
      "metadata": {},
      "outputs": [],
      "source": [
        "n_clusters = 3"
      ]
    },
    {
      "cell_type": "code",
      "execution_count": null,
      "id": "146ae5e7",
      "metadata": {
        "noteable": {}
      },
      "outputs": [],
      "source": [
        "# iris = pd.read_csv(path, names=['Sepal length (cm)', 'Sepal width (cm)', 'Petal length (cm)', 'Petal width (cm)', 'Species'])"
      ]
    },
    {
      "cell_type": "code",
      "execution_count": null,
      "id": "2e77ee60",
      "metadata": {
        "noteable": {}
      },
      "outputs": [],
      "source": [
        "iris.head()"
      ]
    },
    {
      "cell_type": "code",
      "execution_count": null,
      "id": "98047991",
      "metadata": {
        "noteable": {}
      },
      "outputs": [],
      "source": [
        "iris['Species'].unique()"
      ]
    },
    {
      "cell_type": "code",
      "execution_count": null,
      "id": "5bd8b367",
      "metadata": {
        "noteable": {}
      },
      "outputs": [],
      "source": [
        "iris.describe()"
      ]
    },
    {
      "cell_type": "code",
      "execution_count": null,
      "id": "6af090e8",
      "metadata": {
        "noteable": {}
      },
      "outputs": [],
      "source": [
        "g = sns.PairGrid(iris, hue=\"Species\")\n",
        "g.map_diag(plt.hist, alpha=0.5)\n",
        "g.map_upper(plt.scatter, alpha=0.5, marker='x')\n",
        "g.map_lower(sns.kdeplot, fill=True, thresh=0.05, alpha=0.3)\n",
        "g.add_legend();"
      ]
    },
    {
      "cell_type": "markdown",
      "id": "4557dfc0",
      "metadata": {
        "noteable": {
          "output_collection_id": "4557dfc0"
        }
      },
      "source": [
        "Famously, while it's easy to see from theese plots that _Iris setosa_ is linearly separable from the other two species, the _versicolor_ and _virginica_ flowers are not linearly separable. We can see this another way by looking at box plots of the measured attributes:"
      ]
    },
    {
      "cell_type": "code",
      "execution_count": null,
      "id": "b627cfb3",
      "metadata": {
        "noteable": {}
      },
      "outputs": [],
      "source": [
        "fig, axs = plt.subplots(ncols=2, nrows=2, figsize=(12, 12))\n",
        "\n",
        "sns.boxplot(x=\"Species\", y=\"Sepal length (cm)\", data=iris, ax=axs[0, 0])\n",
        "sns.swarmplot(x=\"Species\", y=\"Sepal length (cm)\", data=iris, color=\".25\", ax=axs[0, 0])\n",
        "\n",
        "sns.boxplot(x=\"Species\", y=\"Sepal width (cm)\", data=iris, ax=axs[0, 1])\n",
        "sns.swarmplot(x=\"Species\", y=\"Sepal width (cm)\", data=iris, color=\".25\", ax=axs[0, 1])\n",
        "\n",
        "sns.boxplot(x=\"Species\", y=\"Petal length (cm)\", data=iris, ax=axs[1, 0])\n",
        "sns.swarmplot(x=\"Species\", y=\"Petal length (cm)\", data=iris, color=\".25\", ax=axs[1, 0])\n",
        "\n",
        "sns.boxplot(x=\"Species\", y=\"Petal width (cm)\", data=iris, ax=axs[1, 1])\n",
        "sns.swarmplot(x=\"Species\", y=\"Petal width (cm)\", data=iris, color=\".25\", ax=axs[1, 1])"
      ]
    },
    {
      "cell_type": "markdown",
      "id": "5a04d483",
      "metadata": {
        "noteable": {
          "output_collection_id": "5a04d483"
        }
      },
      "source": [
        "If we try to cluster this data using a method such as _k_-means, we'll be unsuccessful. Consider:"
      ]
    },
    {
      "cell_type": "code",
      "execution_count": null,
      "id": "e47fb373",
      "metadata": {
        "noteable": {}
      },
      "outputs": [],
      "source": [
        "import sklearn.cluster\n",
        "estimator = sklearn.cluster.KMeans(n_clusters=n_clusters)\n",
        "estimator.fit(iris[['Sepal length (cm)', 'Sepal width (cm)', 'Petal length (cm)', 'Petal width (cm)']])"
      ]
    },
    {
      "cell_type": "code",
      "execution_count": null,
      "id": "86232e82",
      "metadata": {
        "noteable": {}
      },
      "outputs": [],
      "source": [
        "iris['K-means cluster assignment'] = estimator.labels_"
      ]
    },
    {
      "cell_type": "code",
      "execution_count": null,
      "id": "a80c7b6b",
      "metadata": {
        "noteable": {}
      },
      "outputs": [],
      "source": [
        "fig, axs = plt.subplots(ncols=3, nrows=3, figsize=(12, 12))\n",
        "\n",
        "sns.scatterplot(x=\"Sepal width (cm)\", y=\"Sepal length (cm)\", data=iris, ax=axs[0, 0], hue=\"Species\", style=\"K-means cluster assignment\", legend=False, marker=\"x\", alpha=0.5)\n",
        "sns.scatterplot(x=\"Petal length (cm)\", y=\"Sepal length (cm)\", data=iris, ax=axs[0, 1], hue=\"Species\", style=\"K-means cluster assignment\", legend=False, marker=\"x\", alpha=0.5)\n",
        "sns.scatterplot(x=\"Petal width (cm)\", y=\"Sepal length (cm)\", data=iris, ax=axs[0, 2], hue=\"Species\", style=\"K-means cluster assignment\", legend=False, marker=\"x\", alpha=0.5)\n",
        "\n",
        "sns.scatterplot(x=\"Petal length (cm)\", y=\"Sepal width (cm)\", data=iris, ax=axs[1, 1], hue=\"Species\", style=\"K-means cluster assignment\", legend=False, marker=\"x\", alpha=0.5)\n",
        "sns.scatterplot(x=\"Petal width (cm)\", y=\"Sepal width (cm)\", data=iris, ax=axs[1, 2], hue=\"Species\", style=\"K-means cluster assignment\", legend=False, marker=\"x\", alpha=0.5)\n",
        "\n",
        "p = sns.scatterplot(x=\"Petal width (cm)\", y=\"Petal length (cm)\", data=iris, ax=axs[2, 2], hue=\"Species\", style=\"K-means cluster assignment\", legend=False, marker=\"x\", alpha=0.5)\n",
        "\n",
        "axs[1, 0].axis('off')\n",
        "axs[2, 0].axis('off')\n",
        "axs[2, 1].axis('off')\n",
        "\n",
        "import matplotlib.patches as mpatches\n",
        "import matplotlib.lines as mlines\n",
        "\n",
        "palette = sns.color_palette()\n",
        "setosa = mpatches.Patch(color=palette[0], label='Iris setosa', alpha=0.5)\n",
        "versicolor = mpatches.Patch(color=palette[1], label='Iris versicolor', alpha=0.5)\n",
        "virginica = mpatches.Patch(color=palette[2], label='Iris virginica', alpha=0.5)\n",
        "\n",
        "class_0 = mlines.Line2D([], [], marker='o', color='lightgrey', linestyle='None', markersize=10, label='Class 0')\n",
        "class_1 = mlines.Line2D([], [], marker='X', color='lightgrey', linestyle='None', markersize=10, label='Class 1')\n",
        "class_2 = mlines.Line2D([], [], marker='s', color='lightgrey', linestyle='None', markersize=10, label='Class 2')\n",
        "\n",
        "axs[2,0].legend(handles=[setosa, versicolor, virginica, class_0, class_1, class_2])\n"
      ]
    },
    {
      "cell_type": "markdown",
      "id": "e951e970",
      "metadata": {
        "noteable": {
          "output_collection_id": "e951e970"
        }
      },
      "source": [
        "We can see that _versicolor_ and _virginica_ individuals are incorrectly classified by the _k_-means estimator."
      ]
    }
  ],
  "metadata": {
    "kernelspec": {
      "display_name": "Python 3",
      "language": "python",
      "name": "python3"
    },
    "language_info": {
      "codemirror_mode": {
        "name": "ipython",
        "version": 3
      },
      "file_extension": ".py",
      "mimetype": "text/x-python",
      "name": "python",
      "nbconvert_exporter": "python",
      "pygments_lexer": "ipython3",
      "version": "3.8.13"
    },
    "noteable": {
      "last_delta_id": "00000000-0000-0000-0000-000000000000",
      "last_transaction_id": "35ab1517-a0d0-490d-8033-2b9e0acd86bd"
    },
    "nteract": {
      "version": "noteable@2.9.0"
    },
    "vscode": {
      "interpreter": {
        "hash": "9ac03a0a6051494cc606d484d27d20fce22fb7b4d169f583271e11d5ba46a56e"
      }
    }
  },
  "nbformat": 4,
  "nbformat_minor": 5
}
