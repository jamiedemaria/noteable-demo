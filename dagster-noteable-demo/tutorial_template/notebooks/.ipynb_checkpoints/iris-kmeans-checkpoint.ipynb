{
 "cells": [
  {
   "cell_type": "markdown",
   "id": "8d015956",
   "metadata": {
    "noteable": {
     "output_collection_id": "8d015956"
    }
   },
   "source": [
    "# K-means clustering for the Iris data set"
   ]
  },
  {
   "cell_type": "code",
   "execution_count": null,
   "id": "edec6ecf",
   "metadata": {
    "noteable": {}
   },
   "outputs": [],
   "source": [
    "import matplotlib.pyplot as plt\n",
    "import pandas as pd\n",
    "import seaborn as sns"
   ]
  },
  {
   "cell_type": "code",
   "execution_count": null,
   "id": "9c597f3d",
   "metadata": {
    "tags": [
     "parameters"
    ]
   },
   "outputs": [],
   "source": [
    "# this cell has been tagged wtih \"parameters\"\n",
    "\n",
    "# TODO fetch iris dataset \n",
    "iris = None"
   ]
  },
  {
   "cell_type": "code",
   "execution_count": null,
   "id": "511c4578",
   "metadata": {
    "tags": [
     "parameters"
    ]
   },
   "outputs": [],
   "source": [
    "# this cell has been tagged wtih \"parameters\"\n",
    "n_clusters = 3"
   ]
  },
  {
   "cell_type": "code",
   "execution_count": null,
   "id": "2e77ee60",
   "metadata": {
    "noteable": {}
   },
   "outputs": [],
   "source": [
    "iris.head()"
   ]
  },
  {
   "cell_type": "code",
   "execution_count": null,
   "id": "98047991",
   "metadata": {
    "noteable": {}
   },
   "outputs": [],
   "source": [
    "iris['Species'].unique()"
   ]
  },
  {
   "cell_type": "code",
   "execution_count": null,
   "id": "5bd8b367",
   "metadata": {
    "noteable": {}
   },
   "outputs": [],
   "source": [
    "iris.describe()"
   ]
  },
  {
   "cell_type": "code",
   "execution_count": null,
   "id": "6af090e8",
   "metadata": {
    "noteable": {}
   },
   "outputs": [],
   "source": [
    "# TODO - fill out with our first analysis of the data"
   ]
  },
  {
   "cell_type": "markdown",
   "id": "4557dfc0",
   "metadata": {
    "noteable": {
     "output_collection_id": "4557dfc0"
    }
   },
   "source": [
    "Famously, while it's easy to see from theese plots that _Iris setosa_ is linearly separable from the other two species, the _versicolor_ and _virginica_ flowers are not linearly separable. We can see this another way by looking at box plots of the measured attributes:"
   ]
  },
  {
   "cell_type": "code",
   "execution_count": null,
   "id": "b627cfb3",
   "metadata": {
    "noteable": {}
   },
   "outputs": [],
   "source": [
    "fig, axs = plt.subplots(ncols=2, nrows=2, figsize=(12, 12))\n",
    "\n",
    "sns.boxplot(x=\"Species\", y=\"Sepal length (cm)\", data=iris, ax=axs[0, 0])\n",
    "sns.swarmplot(x=\"Species\", y=\"Sepal length (cm)\", data=iris, color=\".25\", ax=axs[0, 0])\n",
    "\n",
    "sns.boxplot(x=\"Species\", y=\"Sepal width (cm)\", data=iris, ax=axs[0, 1])\n",
    "sns.swarmplot(x=\"Species\", y=\"Sepal width (cm)\", data=iris, color=\".25\", ax=axs[0, 1])\n",
    "\n",
    "sns.boxplot(x=\"Species\", y=\"Petal length (cm)\", data=iris, ax=axs[1, 0])\n",
    "sns.swarmplot(x=\"Species\", y=\"Petal length (cm)\", data=iris, color=\".25\", ax=axs[1, 0])\n",
    "\n",
    "sns.boxplot(x=\"Species\", y=\"Petal width (cm)\", data=iris, ax=axs[1, 1])\n",
    "sns.swarmplot(x=\"Species\", y=\"Petal width (cm)\", data=iris, color=\".25\", ax=axs[1, 1])"
   ]
  },
  {
   "cell_type": "markdown",
   "id": "5a04d483",
   "metadata": {
    "noteable": {
     "output_collection_id": "5a04d483"
    }
   },
   "source": [
    "If we try to cluster this data using a method such as _k_-means, we'll be unsuccessful. Consider:"
   ]
  },
  {
   "cell_type": "code",
   "execution_count": null,
   "id": "e47fb373",
   "metadata": {
    "noteable": {}
   },
   "outputs": [],
   "source": [
    "import sklearn.cluster\n",
    "estimator = sklearn.cluster.KMeans(n_clusters=n_clusters)\n",
    "estimator.fit(iris[['Sepal length (cm)', 'Sepal width (cm)', 'Petal length (cm)', 'Petal width (cm)']])"
   ]
  },
  {
   "cell_type": "code",
   "execution_count": null,
   "id": "86232e82",
   "metadata": {
    "noteable": {}
   },
   "outputs": [],
   "source": [
    "iris['K-means cluster assignment'] = estimator.labels_"
   ]
  },
  {
   "cell_type": "code",
   "execution_count": null,
   "id": "a80c7b6b",
   "metadata": {
    "noteable": {}
   },
   "outputs": [],
   "source": [
    "fig, axs = plt.subplots(ncols=3, nrows=3, figsize=(12, 12))\n",
    "\n",
    "sns.scatterplot(x=\"Sepal width (cm)\", y=\"Sepal length (cm)\", data=iris, ax=axs[0, 0], hue=\"Species\", style=\"K-means cluster assignment\", legend=False, marker=\"x\", alpha=0.5)\n",
    "sns.scatterplot(x=\"Petal length (cm)\", y=\"Sepal length (cm)\", data=iris, ax=axs[0, 1], hue=\"Species\", style=\"K-means cluster assignment\", legend=False, marker=\"x\", alpha=0.5)\n",
    "sns.scatterplot(x=\"Petal width (cm)\", y=\"Sepal length (cm)\", data=iris, ax=axs[0, 2], hue=\"Species\", style=\"K-means cluster assignment\", legend=False, marker=\"x\", alpha=0.5)\n",
    "\n",
    "sns.scatterplot(x=\"Petal length (cm)\", y=\"Sepal width (cm)\", data=iris, ax=axs[1, 1], hue=\"Species\", style=\"K-means cluster assignment\", legend=False, marker=\"x\", alpha=0.5)\n",
    "sns.scatterplot(x=\"Petal width (cm)\", y=\"Sepal width (cm)\", data=iris, ax=axs[1, 2], hue=\"Species\", style=\"K-means cluster assignment\", legend=False, marker=\"x\", alpha=0.5)\n",
    "\n",
    "p = sns.scatterplot(x=\"Petal width (cm)\", y=\"Petal length (cm)\", data=iris, ax=axs[2, 2], hue=\"Species\", style=\"K-means cluster assignment\", legend=False, marker=\"x\", alpha=0.5)\n",
    "\n",
    "axs[1, 0].axis('off')\n",
    "axs[2, 0].axis('off')\n",
    "axs[2, 1].axis('off')\n",
    "\n",
    "import matplotlib.patches as mpatches\n",
    "import matplotlib.lines as mlines\n",
    "\n",
    "palette = sns.color_palette()\n",
    "setosa = mpatches.Patch(color=palette[0], label='Iris setosa', alpha=0.5)\n",
    "versicolor = mpatches.Patch(color=palette[1], label='Iris versicolor', alpha=0.5)\n",
    "virginica = mpatches.Patch(color=palette[2], label='Iris virginica', alpha=0.5)\n",
    "\n",
    "class_0 = mlines.Line2D([], [], marker='o', color='lightgrey', linestyle='None', markersize=10, label='Class 0')\n",
    "class_1 = mlines.Line2D([], [], marker='X', color='lightgrey', linestyle='None', markersize=10, label='Class 1')\n",
    "class_2 = mlines.Line2D([], [], marker='s', color='lightgrey', linestyle='None', markersize=10, label='Class 2')\n",
    "\n",
    "axs[2,0].legend(handles=[setosa, versicolor, virginica, class_0, class_1, class_2])\n"
   ]
  },
  {
   "cell_type": "markdown",
   "id": "e951e970",
   "metadata": {
    "noteable": {
     "output_collection_id": "e951e970"
    }
   },
   "source": [
    "We can see that _versicolor_ and _virginica_ individuals are incorrectly classified by the _k_-means estimator."
   ]
  }
 ],
 "metadata": {
  "celltoolbar": "Tags",
  "kernelspec": {
   "display_name": "Python 3 (ipykernel)",
   "language": "python",
   "name": "python3"
  },
  "language_info": {
   "codemirror_mode": {
    "name": "ipython",
    "version": 3
   },
   "file_extension": ".py",
   "mimetype": "text/x-python",
   "name": "python",
   "nbconvert_exporter": "python",
   "pygments_lexer": "ipython3",
   "version": "3.9.10"
  },
  "noteable": {
   "last_delta_id": "00000000-0000-0000-0000-000000000000",
   "last_transaction_id": "35ab1517-a0d0-490d-8033-2b9e0acd86bd"
  },
  "nteract": {
   "version": "noteable@2.9.0"
  },
  "vscode": {
   "interpreter": {
    "hash": "e5fba353c56c7ba0bcc92cb4e3a58f4a2d45616f71cf3092e3e47a9c9267b682"
   }
  }
 },
 "nbformat": 4,
 "nbformat_minor": 5
}
